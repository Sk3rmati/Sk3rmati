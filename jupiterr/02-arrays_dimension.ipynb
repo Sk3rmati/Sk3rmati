{
 "cells": [
  {
   "cell_type": "code",
   "execution_count": 1,
   "metadata": {},
   "outputs": [
    {
     "data": {
      "text/plain": [
       "[[[[4, 3, 2, 1], [7, 8, 9, 5]]]]"
      ]
     },
     "execution_count": 1,
     "metadata": {},
     "output_type": "execute_result"
    }
   ],
   "source": [
    "import numpy as np\n",
    "\n",
    "#Generando un Array de 12 elementos con Random\n",
    "\n",
    "array3 = np.random.randint(20,80,4)\n",
    "array3\n",
    "\n",
    "#Generando la dimensión de un arreglo\n",
    "\n",
    "np.shape(array3)\n",
    "array3\n",
    "\n",
    "#Transformando el vector a una matriz de 2x2 con Reshape\n",
    "\n",
    "matriz = array3.reshape(2,2)\n",
    "matriz\n",
    "\n",
    "#Creando un tensor de 3 dimensiones\n",
    "\n",
    "tensor = [[[[4,3,2,1],[7,8,9,5]]]]\n",
    "tensor"
   ]
  }
 ],
 "metadata": {
  "kernelspec": {
   "display_name": "Python 3",
   "language": "python",
   "name": "python3"
  },
  "language_info": {
   "codemirror_mode": {
    "name": "ipython",
    "version": 3
   },
   "file_extension": ".py",
   "mimetype": "text/x-python",
   "name": "python",
   "nbconvert_exporter": "python",
   "pygments_lexer": "ipython3",
   "version": "3.11.2"
  },
  "orig_nbformat": 4
 },
 "nbformat": 4,
 "nbformat_minor": 2
}
