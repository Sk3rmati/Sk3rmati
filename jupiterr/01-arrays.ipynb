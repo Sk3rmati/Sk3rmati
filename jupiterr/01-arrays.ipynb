{
 "cells": [
  {
   "attachments": {},
   "cell_type": "markdown",
   "metadata": {},
   "source": [
    "Aprendiendo jupyter"
   ]
  },
  {
   "cell_type": "code",
   "execution_count": 1,
   "metadata": {},
   "outputs": [
    {
     "data": {
      "text/plain": [
       "array([[52, 66, 63, 96, 32],\n",
       "       [68, 84, 38, 94, 75],\n",
       "       [48, 53, 60, 67, 26],\n",
       "       [79, 61, 66, 30, 87],\n",
       "       [91, 34, 32, 83, 97]])"
      ]
     },
     "execution_count": 1,
     "metadata": {},
     "output_type": "execute_result"
    }
   ],
   "source": [
    "import numpy as np\n",
    "lista=list(range(1,21))\n",
    "lista\n",
    "\n",
    "##Transformar lista en un Array\n",
    "arreglo= np.array(lista)\n",
    "arreglo\n",
    "\n",
    "###Corroborando el tipo de estructura \n",
    "type(arreglo)\n",
    "\n",
    "###Corroborando el tipo de datos del arreglo\n",
    "\n",
    "arreglo.dtype\n",
    "\n",
    "###Definiendo el array de int32 a float32\n",
    "np.array(arreglo,dtype=np.float32)\n",
    "\n",
    "##sigue siendo un array de int32\n",
    "arreglo\n",
    "\n",
    "##transformando los datos de int32 a float32\n",
    "arreglo.astype(np.float32)\n",
    "\n",
    "###Existe una funcion similar a range pero ocupando arrays\n",
    "arreglonuevo=np.arange(1,11)\n",
    "arreglonuevo\n",
    "\n",
    "###Arreglo de 2 en 2 utilizando arange\n",
    "arreglonuevo2=np.arange(2,11,2)\n",
    "arreglonuevo2\n",
    "\n",
    "##Algunas funciones\n",
    "#Obteniendo el promedio de array\n",
    "promedio=np.mean(arreglo)\n",
    "promedio\n",
    "\n",
    "mediana=np.median(arreglo)\n",
    "mediana\n",
    "\n",
    "###Generacion de un arreglo de 10 elementos de solo unos\n",
    "arreglo_de_unos=np.ones(10)\n",
    "arreglo_de_unos\n",
    "\n",
    "##Transformando el arreglo de unos de punto flotante\n",
    "arreglo_int_ones=arreglo_de_unos.astype(int)\n",
    "arreglo_int_ones\n",
    "\n",
    "##Utilizando la funcion random\n",
    "arreglo_aleatorio=np.random.rand(5)\n",
    "arreglo_aleatorio\n",
    "##Generando una matriz aleatoria de 3x3\n",
    "matriz=np.random.rand(3,3)\n",
    "matriz\n",
    "\n",
    "##Generando un arreglo aleatorio de 10 numeros enteros del 1 al 5\n",
    "arreglo_aleatorio2=np.random.randint(1,100,10)\n",
    "arreglo_aleatorio2\n",
    "\n",
    "#Generando una matriz aleatoria de 10 números enteros del 1 al 100\n",
    "\n",
    "matriz2 = np.random.randint(1,100,(5,5))\n",
    "matriz2"
   ]
  }
 ],
 "metadata": {
  "kernelspec": {
   "display_name": "Python 3",
   "language": "python",
   "name": "python3"
  },
  "language_info": {
   "codemirror_mode": {
    "name": "ipython",
    "version": 3
   },
   "file_extension": ".py",
   "mimetype": "text/x-python",
   "name": "python",
   "nbconvert_exporter": "python",
   "pygments_lexer": "ipython3",
   "version": "3.11.2"
  },
  "orig_nbformat": 4
 },
 "nbformat": 4,
 "nbformat_minor": 2
}
